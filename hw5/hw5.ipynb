{
 "cells": [
  {
   "cell_type": "code",
   "execution_count": 3,
   "metadata": {},
   "outputs": [],
   "source": [
    "from math import exp, log, sqrt, factorial\n",
    "from scipy.stats import norm\n",
    "import numpy as np"
   ]
  },
  {
   "cell_type": "code",
   "execution_count": 10,
   "metadata": {},
   "outputs": [],
   "source": [
    "def repl_portfolio(fu, fd, u, d, S0, r, delta):\n",
    "    Delta = (fu-fd) / (S0(u-d))\n",
    "    Psi = (d*fu - u*fd) /(exp(r*delta) * (u-d))\n",
    "    return Delta, Psi\n",
    "\n",
    "def no_arb_val(Delta, Psi, S0):\n",
    "    return Delta * S0 - Psi\n",
    "\n",
    "def risk_neutral_prob(r, delta, u, d):\n",
    "    return (exp(r*delta)-d) / (u-d)\n",
    "\n",
    "def risk_neutral_value(p_star, fu, fd, r, delta):\n",
    "    return exp(-r*delta) * (p_star * fu + (1-p_star) * fd)\n",
    "\n",
    "def put_payoff(K, S):\n",
    "    return max(K-S, 0)\n",
    "\n",
    "def call_payoff(K, S):\n",
    "    return max(S-K, 0)\n",
    "\n",
    "def delta_hedge(fu, fd, u, d, S0):\n",
    "    return (fu-fd) / (S0 * (u-d))\n",
    "\n",
    "def lookback_call_payoff(K, S_max):\n",
    "    return max(0, S_max - K)\n",
    "\n",
    "def crr_binom(sigma, delta):\n",
    "    return exp(sigma * sqrt(delta)), exp(-sigma * sqrt(delta))\n",
    "\n",
    "def comb(N, k):\n",
    "    return factorial(N) / (factorial(N-k) * factorial(k))\n",
    "\n",
    "def risk_neutral_pricing(p, fN, r, u, d, delta):\n",
    "    s = sum([comb(N, j) * (p**j) * (1-p)**(N-j) * fN[j] for j in range(0, N+1)])\n",
    "    return exp(-r * N*delta) * s\n",
    "\n",
    "def N_cdf(x):\n",
    "    return norm(0, 1).cdf(x)\n",
    "\n",
    "def black_sholes(N, delta, S0, K, r, q, sigma, opt_type=\"put\"):\n",
    "    T = N * delta\n",
    "    d1 = (log(S0 / K) + (r - q + 0.5 * (sigma**2)) * T) / (sigma * sqrt(T))\n",
    "    d2 = d1 - sigma * sqrt(T)\n",
    "    print(d1, d2)\n",
    "    if opt_type == \"put\":\n",
    "        return -S0 * exp(-q * T) * N_cdf(-d1) + K * exp(-r * T) * N_cdf(-d2)\n",
    "        \n",
    "    elif opt_type == \"call\":\n",
    "        return S0 * exp(-q * T) * N_cdf(d1) - K * exp(-r * T) * N_cdf(d2)\n",
    "        \n",
    "    else:\n",
    "        print(\"invalid type\")\n",
    "        return None\n",
    "    \n",
    "    "
   ]
  },
  {
   "cell_type": "code",
   "execution_count": 11,
   "metadata": {},
   "outputs": [
    {
     "name": "stdout",
     "output_type": "stream",
     "text": [
      "P_star: 0.5125313021485024\n",
      "\n",
      "fuu: 0\n",
      "fdd: 17.999999999999993\n",
      "fud: 2.0\n",
      "fu: 0.9700748751560944\n",
      "fd: 9.750623959634117\n",
      "\n",
      "Value: 5.224131634995086\n",
      "Delta0: -43.902745422390126\n",
      "Delta_td -99.99999999999997\n"
     ]
    }
   ],
   "source": [
    "# 1\n",
    "\n",
    "S0 = 50\n",
    "u = 1.2\n",
    "d = 0.8\n",
    "r = 0.01\n",
    "K = 50\n",
    "\n",
    "# Risk neutral prob\n",
    "p_star = risk_neutral_prob(r, 1/2, u, d)\n",
    "print(\"P_star:\", p_star)\n",
    "\n",
    "# Payoff\n",
    "fuu = put_payoff(K, (u**2) * S0)\n",
    "fdd = put_payoff(K, (d **2) * S0)\n",
    "fud = put_payoff(K, (u*d) * S0)\n",
    "\n",
    "fu = risk_neutral_value(p_star, fuu, fud, r, 1/2)\n",
    "fd = risk_neutral_value(p_star, fud, fdd, r, 1/2)\n",
    "f0 = risk_neutral_value(p_star, fu, fd, r, 1/2)\n",
    "print(f\"\"\"\n",
    "fuu: {fuu}\n",
    "fdd: {fdd}\n",
    "fud: {fud}\n",
    "fu: {fu}\n",
    "fd: {fd}\n",
    "\"\"\")\n",
    "\n",
    "# Value of option\n",
    "print(\"Value:\", f0)\n",
    "\n",
    "# initial delta hedge\n",
    "Delta0 = delta_hedge(fu, fd, u, d, S0)\n",
    "print(\"Delta0:\", Delta0 * 100)\n",
    "\n",
    "# Adjust hedge\n",
    "Delta_tu = delta_hedge(fuu, fud, u, d, S0)\n",
    "Delta_td = delta_hedge(fud, fdd, u, d, d*S0)\n",
    "print(\"Delta_td\", Delta_td * 100)"
   ]
  },
  {
   "cell_type": "code",
   "execution_count": 17,
   "metadata": {},
   "outputs": [
    {
     "name": "stdout",
     "output_type": "stream",
     "text": [
      "\n",
      "p_star: 0.5125156380289756\n",
      "fuu: 26.000000000000014\n",
      "fdd: 5\n",
      "fud: 15.000000000000014\n",
      "fdu: 5\n",
      "fu: 20.586142277287642\n",
      "fd: 10.099875104101603\n",
      "\n",
      "Value: 12.94964110559295 Delta: 50.00000000000006\n"
     ]
    }
   ],
   "source": [
    "# 2\n",
    "\n",
    "S0 = 100\n",
    "delta = 3/12\n",
    "u = 1.1\n",
    "d = 0.9 \n",
    "r = 0.01\n",
    "K = 95\n",
    "\n",
    "# Backward induction\n",
    "p_star = risk_neutral_prob(0.01, 3/12, 1.1, 0.9)\n",
    "\n",
    "fuu = call_payoff(K, max(S0, u*S0, (u**2)*S0))\n",
    "fud = call_payoff(K, max(S0, u*S0, u*d*S0))\n",
    "fdu = call_payoff(K, max(S0, d*S0, u*d*S0))\n",
    "fdd = call_payoff(K, max(S0, d*S0, (d**2)*S0))\n",
    "\n",
    "fu = risk_neutral_value(p_star, fuu, fud, r, delta)\n",
    "fd = risk_neutral_value(p_star, fud, fdd, r, delta)\n",
    "\n",
    "# Value\n",
    "#f0 = risk_neutral_value(p_star, fu, fd, r, delta)\n",
    "f0 = exp(-r * delta * 2)\n",
    "f0 = f0 * (p_star**2*fuu + p_star*(1-p_star)*(fud+fdu) +(1-p_star)**2 * fdd)\n",
    "# Delta hedge\n",
    "Delta = delta_hedge(call_payoff(K, max(S0, u*S0)), call_payoff(K, max(S0, d*S0)), u, d, S0)\n",
    "\n",
    "print(f\"\"\"\n",
    "p_star: {p_star}\n",
    "fuu: {fuu}\n",
    "fdd: {fdd}\n",
    "fud: {fud}\n",
    "fdu: {fdu}\n",
    "fu: {fu}\n",
    "fd: {fd}\n",
    "\"\"\")\n",
    "\n",
    "print(\"Value:\", f0, \"Delta:\", 100 * Delta)\n"
   ]
  },
  {
   "cell_type": "code",
   "execution_count": 14,
   "metadata": {},
   "outputs": [
    {
     "name": "stdout",
     "output_type": "stream",
     "text": [
      "\n",
      "    p_star: 0.38004991677072936\n",
      "    fuu: 806.2499999999995 \n",
      "    fdd: 0\n",
      "    fud: 87.5\n",
      "    fu: 375.0, pu: 375.0\n",
      "    fd: 33.17133563149852, pd: 0\n",
      "    f0: 162.6760920577644, p0: 0\n",
      "\n",
      "Exercise at maturity\n",
      "156.89872643941945\n",
      "5.777365618344959\n"
     ]
    }
   ],
   "source": [
    "# 3\n",
    "\n",
    "# Stock index\n",
    "S0 = 2500\n",
    "u, d  = 1.15, 0.9\n",
    "r = 0.01\n",
    "q = 0.03\n",
    "K = 2500\n",
    "delta = 3/12\n",
    "# Compute Value of 6 month at-the-money American Call option\n",
    "p_star = risk_neutral_prob(r-q, delta, u, d)\n",
    "fuu = call_payoff(K, (u**2) * S0)\n",
    "fdd = call_payoff(K, (d**2) *S0)\n",
    "fud = call_payoff(K, (u*d) * S0)\n",
    "\n",
    "fu = max(call_payoff(K, u*S0), risk_neutral_value(p_star, fuu, fud, r, delta))\n",
    "fd = max(call_payoff(K, d*S0), risk_neutral_value(p_star, fud, fdd, r, delta))\n",
    "f0 = max(call_payoff(K, S0), risk_neutral_value(p_star, fu, fd, r, delta))\n",
    "\n",
    "print(f\"\"\"\n",
    "    p_star: {p_star}\n",
    "    fuu: {fuu} \n",
    "    fdd: {fdd}\n",
    "    fud: {fud}\n",
    "    fu: {fu}, pu: {call_payoff(K, u*S0)}\n",
    "    fd: {fd}, pd: {call_payoff(K, d*S0)}\n",
    "    f0: {f0}, p0: {call_payoff(K, S0)}\n",
    "\"\"\")\n",
    "\n",
    "# When Exercise? \n",
    "print(\"Exercise at maturity\")\n",
    "\n",
    "# Value of equivalent European Call?\n",
    "f0_euro = exp(-2*r*delta) * (p_star**2*fuu + 2*p_star*(1-p_star)*fud + (1-p_star)**2*fdd)\n",
    "print(f0_euro)\n",
    "# How much pay for right to exercise early?\n",
    "print(f0-f0_euro)"
   ]
  },
  {
   "cell_type": "code",
   "execution_count": 53,
   "metadata": {},
   "outputs": [
    {
     "name": "stdout",
     "output_type": "stream",
     "text": [
      "0.47789841652564624\n",
      "u: 1.0631511100344377, d: 0.9406000619870564\n",
      "fN: [0.2097804250735864, 0.07424992251617968, 0, 0]\n",
      "f0: 0.05857994708727634\n",
      "0.029462782549439483 -0.07660323462854264\n",
      "Bs: 0.05410598190001392\n",
      "0.004473965187262417\n"
     ]
    }
   ],
   "source": [
    "# 4\n",
    "\n",
    "S0 = 1.25\n",
    "r = 0.01\n",
    "q = 0.015\n",
    "sigma = 0.15\n",
    "delta = 2/12\n",
    "K = 1.25\n",
    "print(p_star)\n",
    "N = 3\n",
    "# 3-step CRR binomial model european at-the-money put\n",
    "u, d = crr_binom(sigma, delta)\n",
    "p_star = risk_neutral_prob(r-q, delta, u, d)\n",
    "print(f\"u: {u}, d: {d}\")\n",
    "\n",
    "fN = [ put_payoff(K, (u**j) * (d**(N-j) * S0)) for j in range(N+1) ]\n",
    "print(f\"fN: {fN}\")\n",
    "f0 = risk_neutral_pricing(p_star, fN, r, u, d, delta)\n",
    "print(f\"f0: {f0}\")\n",
    "\n",
    "# Black sholes\n",
    "bs = black_sholes(N, delta, S0, K, r, q, sigma, opt_type=\"put\")\n",
    "print(f\"Bs: {bs}\")\n",
    "print(f0 - bs)"
   ]
  },
  {
   "cell_type": "code",
   "execution_count": null,
   "metadata": {},
   "outputs": [],
   "source": []
  },
  {
   "cell_type": "code",
   "execution_count": 65,
   "metadata": {},
   "outputs": [
    {
     "name": "stdout",
     "output_type": "stream",
     "text": [
      "0.02 0.02 0.007315 0.007731111111111111 0.08552777326693359 0.08792673717994494\n",
      "Standard Deviation for the first portfolio is smaller. It is therefore less risky and therefore the better choice\n"
     ]
    }
   ],
   "source": [
    "# 5\n",
    "\n",
    "r = np.array([[0.04, 0.02, 0.01]])\n",
    "sigma = np.array([[0.2, 0.12, 0.09]])\n",
    "corr = np.array([[1, 0.3, 0.1], [0.3, 1, 0.2], [0.1, 0.2, 1]])\n",
    "\n",
    "cov = np.dot(sigma.T, sigma) * corr\n",
    "\n",
    "w1 = np.array([[0.25, 0.25, 0.5]])\n",
    "w2 = np.array([[1/6, 1/2, 1/3]])\n",
    "\n",
    "r_hat1 = np.sum(np.inner(w1, r))\n",
    "r_hat2 = np.sum(np.inner(w2, r))\n",
    "\n",
    "var1 = np.sum(np.dot(w1.T, w1) * cov)\n",
    "var2 = np.sum(np.dot(w2.T, w2) * cov)\n",
    "\n",
    "std1 = np.sqrt(var1)\n",
    "std2 = np.sqrt(var2)\n",
    "\n",
    "print(r_hat1, r_hat2, var1, var2, std1, std2)\n",
    "\n",
    "print(\"Standard Deviation for the first portfolio is smaller. It is therefore less risky and therefore the better choice\")\n",
    "\n",
    "#res = 0.0\n",
    "#for i in range(3):\n",
    "#    for j in range(3):\n",
    "#        res += w1[0,i] * w1[0,j] * cov[i, j]\n",
    "        \n",
    "#print(res)\n",
    "\n",
    "#res = 0.0\n",
    "#for i in range(3):\n",
    "#    for j in range(3):\n",
    "#        res += w2[0,i] * w2[0,j] * cov[i, j]\n",
    "        \n",
    "#print(res)\n",
    "        \n"
   ]
  },
  {
   "cell_type": "code",
   "execution_count": 57,
   "metadata": {},
   "outputs": [
    {
     "data": {
      "text/plain": [
       "0.007315"
      ]
     },
     "execution_count": 57,
     "metadata": {},
     "output_type": "execute_result"
    }
   ],
   "source": [
    "var1"
   ]
  },
  {
   "cell_type": "code",
   "execution_count": 58,
   "metadata": {},
   "outputs": [
    {
     "data": {
      "text/plain": [
       "0.007731111111111111"
      ]
     },
     "execution_count": 58,
     "metadata": {},
     "output_type": "execute_result"
    }
   ],
   "source": [
    "var2"
   ]
  },
  {
   "cell_type": "code",
   "execution_count": null,
   "metadata": {},
   "outputs": [],
   "source": []
  }
 ],
 "metadata": {
  "kernelspec": {
   "display_name": "Python 3",
   "language": "python",
   "name": "python3"
  },
  "language_info": {
   "codemirror_mode": {
    "name": "ipython",
    "version": 3
   },
   "file_extension": ".py",
   "mimetype": "text/x-python",
   "name": "python",
   "nbconvert_exporter": "python",
   "pygments_lexer": "ipython3",
   "version": "3.7.5"
  }
 },
 "nbformat": 4,
 "nbformat_minor": 4
}
