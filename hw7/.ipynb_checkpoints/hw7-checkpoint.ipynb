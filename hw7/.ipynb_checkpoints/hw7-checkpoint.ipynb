{
 "cells": [
  {
   "cell_type": "code",
   "execution_count": 9,
   "metadata": {},
   "outputs": [],
   "source": [
    "import numpy as np\n",
    "from math import exp, log\n",
    "import pandas as pd\n",
    "from matplotlib import pyplot as plt\n",
    "from scipy.stats import norm"
   ]
  },
  {
   "cell_type": "code",
   "execution_count": null,
   "metadata": {},
   "outputs": [],
   "source": []
  },
  {
   "cell_type": "code",
   "execution_count": 118,
   "metadata": {},
   "outputs": [
    {
     "name": "stdout",
     "output_type": "stream",
     "text": [
      "Contracts: 845.9640465280225\n",
      "Contracts: 493.4790271413464 short\n",
      "Sanity check: True\n",
      "493.4790271413464\n"
     ]
    }
   ],
   "source": [
    "# Question 1\n",
    "beta = 1.2\n",
    "Qf = 250 \n",
    "S0 = 500000000\n",
    "I0 = 2837\n",
    "\n",
    "# Number of contracts\n",
    "contracts = (beta * S0) / (I0 * Qf)\n",
    "print(f\"Contracts: {contracts}\")\n",
    "\n",
    "# Want beta = 0.5\n",
    "beta_star = 0.5\n",
    "num = (beta_star - beta) / ((Qf*I0) / S0)\n",
    "\n",
    "print(f\"Contracts: {abs(num)} {'short' if num < 0 else 'long'}\")\n",
    "print(f\"Sanity check: {beta + num * (Qf * I0)/S0 - 0.5 < 0.000001}\")\n",
    "print((beta-0.5) / ((Qf * I0)/S0))\n"
   ]
  },
  {
   "cell_type": "code",
   "execution_count": 125,
   "metadata": {},
   "outputs": [
    {
     "name": "stdout",
     "output_type": "stream",
     "text": [
      "F1 critical 2794.5\n",
      "F neg: 2554.5, percentage: -0.09366684406599254\n",
      "-0.09366684406599254\n"
     ]
    }
   ],
   "source": [
    "# Question 2\n",
    "\n",
    "F0 = 2818.50\n",
    "Qf = 50\n",
    "margin = 13200.0\n",
    "maintenance_margin = 12000.0\n",
    "\n",
    "# Long one contract - For what prices will you get margin call\n",
    "\n",
    "# Margin call if account balance below maintenance\n",
    "F1_crit = (maintenance_margin - margin) / Qf + F0\n",
    "print(f\"F1 critical {F1_crit}\")\n",
    "\n",
    "# For what percentage of change in the futures price will your margin account balance be negative??\n",
    "F_neg = -margin/Qf + F0\n",
    "print(f\"F neg: {F_neg}, percentage: {(F_neg - F0) / F0}\")\n",
    "print(-margin/(Qf * F0))"
   ]
  },
  {
   "cell_type": "code",
   "execution_count": 10,
   "metadata": {},
   "outputs": [
    {
     "data": {
      "text/plain": [
       "Index(['Date', 'Eli Lilly stock price'], dtype='object')"
      ]
     },
     "execution_count": 10,
     "metadata": {},
     "output_type": "execute_result"
    }
   ],
   "source": [
    "# Question 3\n",
    "df = pd.read_csv(\"HW7Question3EliLilly.csv\")\n",
    "df.columns"
   ]
  },
  {
   "cell_type": "code",
   "execution_count": 73,
   "metadata": {},
   "outputs": [
    {
     "name": "stdout",
     "output_type": "stream",
     "text": [
      "Drift: 0.0009695167357051898\n",
      "Sigma: 0.013652936988265165\n",
      "Expected Rate of return: 0.0010627180799079594\n",
      "\n",
      "    Yearly:\n",
      "    Drift: 0.24431821739770784\n",
      "    Sigma: 0.2167336556195088\n",
      "    Expected Rate of return: 0.26780495613680577\n",
      "\n"
     ]
    }
   ],
   "source": [
    "#plt.plot(df[\"Date\"], df[\"Eli Lilly stock price\"])\n",
    "#plt.xticks([0, 200, 500])\n",
    "#plt.show()\n",
    "\n",
    "df.rename(columns={\"Eli Lilly stock price\": \"Price\"}, inplace=True)\n",
    "prices = df[\"Price\"].values\n",
    "\n",
    "\n",
    "logdaily = [log(prices[i]/prices[i-1]) for i in range(1, len(prices))]\n",
    "logdaily = np.array(logdaily)\n",
    "drift = np.average(logdaily)\n",
    "\n",
    "s2 = np.mean(np.power((logdaily - drift), 2))\n",
    "s = np.sqrt(s2)\n",
    "sigma = s\n",
    "eror = drift + 0.5 * (sigma**2)\n",
    "print(f\"Drift: {drift}\")\n",
    "print(f\"Sigma: {sigma}\")\n",
    "print(f\"Expected Rate of return: {eror}\")\n",
    "\n",
    "yearly_drift = drift * 252\n",
    "yearly_sigma = sigma / np.sqrt(1/252)\n",
    "yearly_eror = yearly_drift + 0.5 * (yearly_sigma**2)\n",
    "print(f\"\"\"\n",
    "    Yearly:\n",
    "    Drift: {yearly_drift}\n",
    "    Sigma: {yearly_sigma}\n",
    "    Expected Rate of return: {yearly_eror}\n",
    "\"\"\")"
   ]
  },
  {
   "cell_type": "code",
   "execution_count": 102,
   "metadata": {},
   "outputs": [
    {
     "name": "stdout",
     "output_type": "stream",
     "text": [
      "165: Volatility: 0.3070785522460937, bs: 6.749927741453149, diff: 7.225854685088962e-05\n",
      "170: Volatility: 0.2865341186523438, bs: 4.349929025253132, diff: 7.097474686723615e-05\n",
      "Interpolation -- Sigma: 0.29680633544921875, Price: 5.482555512792196\n"
     ]
    }
   ],
   "source": [
    "# Question 4\n",
    "\n",
    "def Ncdf(x):\n",
    "    return norm(0, 1).cdf(x)\n",
    "\n",
    "def black_scholes(S0, K, r, q, T, sigma):\n",
    "    d1 = (log(S0 / K) + (r - q + 0.5 * sigma**2) * T) / (sigma * np.sqrt(T))\n",
    "    d2 = d1 - sigma * np.sqrt(T)\n",
    "    \n",
    "    c = S0 * exp(-q * T) * Ncdf(d1) - K * exp(-r * T)*Ncdf(d2)\n",
    "    return c\n",
    "\n",
    "S0 = 162.93\n",
    "r = 0.0083\n",
    "q = 0.0189\n",
    "T = 0.154\n",
    "def find_sigma(low, high, K, price):\n",
    "    diff = 1.0\n",
    "    while diff > 0.0001:\n",
    "        guess = (high + low) / 2\n",
    "        bs = black_scholes(S0, K, r, q, T, guess)\n",
    "        diff = abs(bs - price)\n",
    "        if bs < price:\n",
    "            low = guess\n",
    "        if bs > price:\n",
    "            high = guess\n",
    "    return [guess, bs, diff]\n",
    "\n",
    "c165 = 6.75\n",
    "c170 = 4.35\n",
    "\n",
    "sigma165 = find_sigma(0.1, 1.0, 165, c165)\n",
    "sigma170 = find_sigma(0.1, 1.0, 170, c170)\n",
    "\n",
    "\n",
    "print(f\"165: Volatility: {sigma165[0]}, bs: {sigma165[1]}, diff: {sigma165[2]}\")\n",
    "print(f\"170: Volatility: {sigma170[0]}, bs: {sigma170[1]}, diff: {sigma170[2]}\")\n",
    "\n",
    "sigma1675 = (sigma170[0] + sigma165[0]) / 2\n",
    "price1675 = black_scholes(S0, 167.5, r, q, T, sigma1675)\n",
    "\n",
    "print(f\"Interpolation -- Sigma: {sigma1675}, Price: {price1675}\")"
   ]
  },
  {
   "cell_type": "code",
   "execution_count": 77,
   "metadata": {},
   "outputs": [
    {
     "name": "stdout",
     "output_type": "stream",
     "text": [
      "Vanilla Price: 0.03543614623858915\n"
     ]
    },
    {
     "data": {
      "text/plain": [
       "0.6070737028543842"
      ]
     },
     "execution_count": 77,
     "metadata": {},
     "output_type": "execute_result"
    }
   ],
   "source": [
    "# Question 5\n",
    "\n",
    "\n",
    "def Ncdf(x):\n",
    "    return norm(0, 1).cdf(x)\n",
    "\n",
    "def bs_put(S0, K, r, q, T, sigma):\n",
    "    d1 = (log(S0 / K) + (r - q + 0.5 * sigma**2) * T) / (sigma * np.sqrt(T))\n",
    "    d2 = d1 - sigma * np.sqrt(T)\n",
    "    \n",
    "    p = -S0 * exp(-q * T) * Ncdf(-d1) + K * exp(-r * T)*Ncdf(-d2)\n",
    "    return p, d1, d2\n",
    "\n",
    "S0 = 1.24\n",
    "r = 0.008\n",
    "q = 0.01\n",
    "sigma = 0.10\n",
    "T = 1 / 2\n",
    "K = 1.24\n",
    "# Price 6-month E put K=1.24\n",
    "p_v, d1, d2 = bs_put(S0, K, r, q, T, sigma)\n",
    "print(f\"Vanilla Price: {p_v}\")\n",
    "\n",
    "# Cash-or-nothing put \n"
   ]
  },
  {
   "cell_type": "code",
   "execution_count": null,
   "metadata": {},
   "outputs": [],
   "source": []
  }
 ],
 "metadata": {
  "kernelspec": {
   "display_name": "Python 3",
   "language": "python",
   "name": "python3"
  },
  "language_info": {
   "codemirror_mode": {
    "name": "ipython",
    "version": 3
   },
   "file_extension": ".py",
   "mimetype": "text/x-python",
   "name": "python",
   "nbconvert_exporter": "python",
   "pygments_lexer": "ipython3",
   "version": "3.7.5"
  }
 },
 "nbformat": 4,
 "nbformat_minor": 4
}
