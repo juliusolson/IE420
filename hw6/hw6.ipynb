{
 "cells": [
  {
   "cell_type": "code",
   "execution_count": 93,
   "metadata": {},
   "outputs": [],
   "source": [
    "from math import exp, log, sqrt\n",
    "import numpy as np\n",
    "from scipy.optimize import minimize\n",
    "import pandas as pd"
   ]
  },
  {
   "cell_type": "code",
   "execution_count": 86,
   "metadata": {},
   "outputs": [],
   "source": [
    "def portfolio_var(w, cov):\n",
    "    w = w.reshape(1, len(w))\n",
    "    return np.sum(np.dot(w.T, w) * cov)"
   ]
  },
  {
   "cell_type": "code",
   "execution_count": 12,
   "metadata": {},
   "outputs": [
    {
     "name": "stdout",
     "output_type": "stream",
     "text": [
      "[[0.0009  0.00018]\n",
      " [0.00018 0.0004 ]]\n",
      "0.00034851063829787236\n"
     ]
    }
   ],
   "source": [
    "# 1 \n",
    "\n",
    "r = np.array([[0.02, 0.015]])\n",
    "sigma = np.array([[0.03, 0.02]])\n",
    "rho = np.array([[1, 0.3], [0.3, 1]])\n",
    "cov = np.dot(sigma.T, sigma) * rho\n",
    "print(cov)\n",
    "w_init = np.array([[0.5, 0.5]])\n",
    "cons = ({'type': 'eq', 'fun': lambda x:  np.sum(x)-1.0})\n",
    "\n",
    "w_mwp = (cov[1,1] - cov[0,1]) / (cov[0,0]- 2*cov[0,1]+ cov[1,1])\n",
    "w_2 = 1-w_mwp\n",
    "\n",
    "w = np.array([[w_mwp, w_2]])\n",
    "\n",
    "print(portfolio_var(w, cov))\n"
   ]
  },
  {
   "cell_type": "code",
   "execution_count": 106,
   "metadata": {},
   "outputs": [],
   "source": [
    "df = pd.read_csv(\"HW6(1).csv\")\n",
    "r = np.array(df[[\"MCD\", \"LLY\", \"JPM\", \"AMZN\", \"SP500\"]].pct_change().mean())\n",
    "cov = np.array(df[[\"MCD\", \"LLY\", \"JPM\", \"AMZN\", \"SP500\"]].pct_change().cov())\n",
    "w = np.array([0.2, 0.2, 0.2, 0.2, 0.2])"
   ]
  },
  {
   "cell_type": "code",
   "execution_count": 111,
   "metadata": {},
   "outputs": [
    {
     "name": "stdout",
     "output_type": "stream",
     "text": [
      "     fun: 0.001869394655629797\n",
      "     jac: array([0.00234934, 0.0026565 , 0.00217924, 0.00590613, 0.00228076])\n",
      " message: 'Optimization terminated successfully.'\n",
      "    nfev: 86\n",
      "     nit: 12\n",
      "    njev: 12\n",
      "  status: 0\n",
      " success: True\n",
      "       x: array([2.91728034e-01, 3.38836083e-01, 7.68297618e-03, 3.61752907e-01,\n",
      "       1.73472348e-17])\n",
      "0.001869394655629797\n",
      "0.02000000000212966\n"
     ]
    }
   ],
   "source": [
    "cons = (\n",
    "    {\"type\": \"eq\", \"fun\": lambda x: np.sum(x)-1.0},\n",
    "    {\"type\": \"ineq\", \"fun\": lambda x: np.min(x)},\n",
    "    {\"type\": \"eq\", \"fun\": lambda x: np.sum(x*r) - 0.02}\n",
    ")\n",
    "w_mwp = minimize(portfolio_var, w, args=(cov), constraints=cons, options={\"maxiter\": 1000})\n",
    "print(w_mwp)\n",
    "print(portfolio_var(w_mwp.x, cov))\n",
    "print(w_mwp.x.dot(r))"
   ]
  },
  {
   "cell_type": "code",
   "execution_count": null,
   "metadata": {},
   "outputs": [],
   "source": []
  }
 ],
 "metadata": {
  "kernelspec": {
   "display_name": "Python 3",
   "language": "python",
   "name": "python3"
  },
  "language_info": {
   "codemirror_mode": {
    "name": "ipython",
    "version": 3
   },
   "file_extension": ".py",
   "mimetype": "text/x-python",
   "name": "python",
   "nbconvert_exporter": "python",
   "pygments_lexer": "ipython3",
   "version": "3.7.5"
  }
 },
 "nbformat": 4,
 "nbformat_minor": 4
}
