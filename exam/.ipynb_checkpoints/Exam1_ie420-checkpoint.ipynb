{
 "cells": [
  {
   "cell_type": "code",
   "execution_count": 1,
   "metadata": {},
   "outputs": [],
   "source": [
    "from math import exp, log\n",
    "import numpy as np"
   ]
  },
  {
   "cell_type": "code",
   "execution_count": 10,
   "metadata": {},
   "outputs": [],
   "source": [
    "def replicating(fu, fd, u, d, S0, r, delta):\n",
    "    Delta = (fu-fd) / (S0 * (u-d))\n",
    "    Psi = (d * fu - u * fd) / (exp(r * delta) * (u-d))\n",
    "    return {\"Delta\": Delta, \"Psi\": Psi}"
   ]
  },
  {
   "cell_type": "code",
   "execution_count": 11,
   "metadata": {},
   "outputs": [],
   "source": [
    "def risk_neutral_prob(u, d, r, delta):\n",
    "    return (exp(r * delta) - d) / (u-d)"
   ]
  },
  {
   "cell_type": "code",
   "execution_count": 19,
   "metadata": {},
   "outputs": [],
   "source": [
    "def put_call_parity(c, p, K, r, q, T, S0, mode=\"cont\"):\n",
    "    call = c + K * exp(-r*T)\n",
    "    if mode == \"cont\":\n",
    "        put = p + S0 * exp(-q * T)\n",
    "    if mode == \"no\":\n",
    "        put = p + S0\n",
    "    return {\"call\": call, \"put\": put}"
   ]
  },
  {
   "cell_type": "code",
   "execution_count": 21,
   "metadata": {},
   "outputs": [],
   "source": [
    "def FRA(r1, r2, t1, t2):\n",
    "    return (r2 * t2 - r1 * t1) / (t2-t1)"
   ]
  },
  {
   "cell_type": "code",
   "execution_count": 23,
   "metadata": {},
   "outputs": [],
   "source": [
    "def present_val_loan(A, i, N):\n",
    "    return (A / i) * (1 - (1+i)**(-N))\n",
    "\n",
    "def future_val_loan(A, i, N):\n",
    "    return (A/i) * ((1+i)**N - 1)\n",
    "\n",
    "def annuity(P, i, N):\n",
    "    return (P * i) / (1 - (1+i)**(-N))"
   ]
  },
  {
   "cell_type": "code",
   "execution_count": null,
   "metadata": {},
   "outputs": [],
   "source": [
    "def duration(T, C, y):\n",
    "    P = 0.0\n",
    "    for i in range(len(T)):\n",
    "        P += C[i] * exp(-y * T[i])\n",
    "    \n",
    "    D = 0.0\n",
    "    for i in range(len(T)):\n",
    "        D += T[i] * (C[i] * exp(-y*T[i]) / P)\n",
    "    \n",
    "    return D\n",
    "\n",
    "def convexity(T, C, y):\n",
    "    P = 0.0\n",
    "    for i in range(len(T)):\n",
    "        P += C[i] * exp(-y * T[i])\n",
    "        \n",
    "    Conv = 0.0\n",
    "    for i in range(len(T)):\n",
    "        Conv += (T[i] ** 2) * (C[i] * exp(-y * T[i]) / P)\n",
    "    \n",
    "        \n",
    "        "
   ]
  }
 ],
 "metadata": {
  "kernelspec": {
   "display_name": "Python 3",
   "language": "python",
   "name": "python3"
  },
  "language_info": {
   "codemirror_mode": {
    "name": "ipython",
    "version": 3
   },
   "file_extension": ".py",
   "mimetype": "text/x-python",
   "name": "python",
   "nbconvert_exporter": "python",
   "pygments_lexer": "ipython3",
   "version": "3.7.5"
  }
 },
 "nbformat": 4,
 "nbformat_minor": 4
}
