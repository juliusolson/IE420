{
 "cells": [
  {
   "cell_type": "code",
   "execution_count": 1,
   "metadata": {},
   "outputs": [],
   "source": [
    "import numpy as np\n",
    "from math import exp, log, sqrt, factorial\n",
    "from scipy.stats import norm as norm\n",
    "from matplotlib import pyplot as plt"
   ]
  },
  {
   "cell_type": "code",
   "execution_count": 2,
   "metadata": {},
   "outputs": [],
   "source": [
    "def put_payoff(K, S):\n",
    "    return max(K - S, 0)\n",
    "    \n",
    "def call_payoff(K, S):\n",
    "    return max(S - K, 0)"
   ]
  },
  {
   "cell_type": "code",
   "execution_count": 3,
   "metadata": {},
   "outputs": [],
   "source": [
    "# Binomial\n",
    "\n",
    "def risk_neutral_prob(r, delta, u, d):\n",
    "    return (exp(r*delta) - d) / (u - d)\n",
    "\n",
    "def replicating_portfolio(fu, fd, S0, u, d, delta):\n",
    "    Delta = (fu - fd) / (S0 * (u - d))\n",
    "    Psi = (d * fu - u*fd) / (exp(r * delta) * (u - d))\n",
    "    \n",
    "    return Delta, Psi\n",
    "\n",
    "def no_arbitrage_val(Delta, S0, Psi):\n",
    "    return Delta * S0 - Psi\n",
    "\n",
    "def risk_neutral_price(r, delta, p, fu, fd):\n",
    "    return exp(-r * delta) * (p*fu + (1-p)*fd)\n",
    "\n",
    "def delta_hedge(fu, fd, S0, u, d):\n",
    "    return (fu - fd) / (S0 * (u - d))\n",
    "\n",
    "def backward_2step(r, delta, p, fuu, fud, fdd):\n",
    "    return exp(-2 * r * delta) * (p**2 * fuu + 2*p*(1-p)*fud + (1-p)**2 * fdd)\n",
    "\n",
    "def comb(N, k):\n",
    "    return factorial(N) / (factorial(k) * factorial(N - k))\n",
    "    \n",
    "\n",
    "def binomial(N, T, S0, u, d, p, payoff):\n",
    "    SN = [(u ** j) * (d ** (N-j)) * S0 for j in range(0, N+1)]\n",
    "    fN = [payoff(x) for x in Sn]\n",
    "    \n",
    "    f0 = exp(-r * T) * sum([comb(N, j)* (p**j) * (1-p)**(N-j) * fN[j] for j in range(N+1)])\n",
    "    return f0\n",
    "    \n",
    "def crr(N, T, S0, sigma, r, payoff):\n",
    "    delta = T/N\n",
    "    u = exp(sigma * sqrt(delta))\n",
    "    d = exp(-sigma * sqrt(delta))\n",
    "    p = risk_neutral_prob(r, delta, u, d)\n",
    "    return binomial(N, T, S0, u, d, p, payoff)\n",
    "\n",
    "def Ncdf(x):\n",
    "    return norm(0, 1).cdf(x)\n",
    "\n",
    "def black_scholes(S0, K, r, q, sigma, T, opt_type):\n",
    "    d1 = (log(S0/K) + (r - q + 0.5*sigma**2) * T) / (sigma * sqrt(T))\n",
    "    d2 = d1 - sigma * sqrt(T)\n",
    "    \n",
    "    if opt_type == \"P\":\n",
    "        return -S0 * exp(-q * T) * Ncdf(-d1) + K * exp(-r * T) * Ncdf(-d2)\n",
    "    elif opt_type == \"C\":\n",
    "        return S0 * exp(-q * T) * Ncdf(d1) - K * exp(-r * T) * Ncdf(d2)\n",
    "    \n",
    "    return None\n"
   ]
  },
  {
   "cell_type": "code",
   "execution_count": 4,
   "metadata": {},
   "outputs": [],
   "source": [
    "# Portfolio + CAPM\n",
    "\n",
    "def rate_of_return(X1, X0):\n",
    "    return (X1 - X0) / X0\n",
    "\n",
    "def sample_var(data):\n",
    "    return 1 / (n - 1) * sum((x - mu) ** 2 for x in data)\n",
    "\n",
    "def port_ror(w, r):\n",
    "    return np.sum(w * r)\n",
    "\n",
    "# Sigmas and correlation matrix\n",
    "def port_cov(sigma, corr):\n",
    "    return np.dot(sigma.T, sigma) * corr\n",
    "\n",
    "def port_var(w, cov):\n",
    "    return np.sum(np.dot(w.T, w) * cov)\n",
    "\n",
    "def minimum_var_2asset(sigma1, sigma2, sigma12):\n",
    "    return (sigma2**2 - sigma12) / (sigma1**2 - 2*sigma12 + sigma2**2)\n",
    "\n",
    "# Market price of risk times std of portfolio + risk free return\n",
    "def capm(rf, rm, sigma_m, sigma_p):\n",
    "    return rf + ((rm - rf)/sigma_m) * sigma_p\n",
    "\n",
    "def risk_premium(rp, rf):\n",
    "    return rp - rf\n",
    "\n",
    "def beta(sigma_p, sigma_m):\n",
    "    return sigma_p / sigma_m"
   ]
  },
  {
   "cell_type": "code",
   "execution_count": 5,
   "metadata": {},
   "outputs": [],
   "source": [
    "# Futures\n",
    "def hedge_ratio(rho, sigma_S, sigma_F):\n",
    "    return rho * (sigma_S/sigma_F)\n",
    "\n",
    "def number_of_contracts(h, qA, qF):\n",
    "    return h * (qA / qF)\n",
    "\n",
    "def index_hedge_ratio(beta, S, I):\n",
    "    return (beta * S) / I\n",
    "\n",
    "def contracts_for_desired_beta(beta_star, beta, I, qF, S):\n",
    "    return (beta_star - beta) / ((qF * I) / S)"
   ]
  },
  {
   "cell_type": "code",
   "execution_count": 6,
   "metadata": {},
   "outputs": [],
   "source": [
    "# Black-Scholes-Merton\n",
    "def log_returns(prices):\n",
    "    return np.array([log(prices[i]/prices[i-1]) for i in range(1, len(prices))])\n",
    "    \n",
    "def estimate_drift(prices):\n",
    "    return np.mean(log_returns(prices))\n",
    "\n",
    "def estimate_sigma(log_returns, drift):\n",
    "    return (1 / len(log_returns)) * np.power((log_returns - drift), 2)\n",
    "\n",
    "TRADING_DAYS = 252\n",
    "\n",
    "def implied_volatility(S0, K, r, q, T, opt_type, low, high, price):\n",
    "    diff = 1.0\n",
    "    while diff > 0.0001:\n",
    "        guess = (high + low) / 2\n",
    "        bs = black_scholes(S0, K, r, q, guess, T, opt_type)\n",
    "        diff = abs (bs - price)\n",
    "        if bs < price:\n",
    "            low = guess\n",
    "        if bs > price:\n",
    "            high = guess\n",
    "    return [guess, bs, diff]\n",
    "    "
   ]
  },
  {
   "cell_type": "raw",
   "metadata": {},
   "source": []
  },
  {
   "cell_type": "code",
   "execution_count": 7,
   "metadata": {},
   "outputs": [
    {
     "name": "stdout",
     "output_type": "stream",
     "text": [
      "0.2\n"
     ]
    }
   ],
   "source": [
    "rm = 0.02\n",
    "rf = 0.005\n",
    "sigma_m = 0.075\n",
    "market_price = (rm - rf) / sigma_m\n",
    "print(market_price)"
   ]
  },
  {
   "cell_type": "code",
   "execution_count": 9,
   "metadata": {},
   "outputs": [
    {
     "data": {
      "text/plain": [
       "0.6000000000000001"
      ]
     },
     "execution_count": 9,
     "metadata": {},
     "output_type": "execute_result"
    }
   ],
   "source": [
    "((0.4 * 0.005 + 0.6 * 0.02) - 0.005) / (0.02 - 0.005)"
   ]
  },
  {
   "cell_type": "code",
   "execution_count": 24,
   "metadata": {},
   "outputs": [
    {
     "name": "stdout",
     "output_type": "stream",
     "text": [
      "13.615480849208632\n",
      "0\n",
      "273.0087427128881\n",
      "280.0\n",
      "0\n",
      "27.999999999999545\n",
      "532.0\n",
      "143.11553176800373\n"
     ]
    }
   ],
   "source": [
    "u = 1.1\n",
    "d = 0.9\n",
    "K = 2800\n",
    "fuu = put_payoff(K, u**2 * 2800)\n",
    "fdd = put_payoff(K, d**2 * 2800)\n",
    "fud = put_payoff(K, u*d * 2800)\n",
    "delta = 3/12\n",
    "r = 0.01\n",
    "\n",
    "p = risk_neutral_prob(r, 3/12, u, d)\n",
    "\n",
    "fu = exp(-r * delta) * (p * fuu + (1-p) * fud)\n",
    "fd = exp(-r * delta) * (p * fud + (1-p) * fdd)\n",
    "\n",
    "print(fu)\n",
    "print(put_payoff(K, u * 2800))\n",
    "print(fd)\n",
    "print(put_payoff(K, d * 2800))\n",
    "print(fuu)\n",
    "print(fud)\n",
    "print(fdd)\n",
    "\n",
    "f0 = exp(-r * delta)* (p * fu + (1-p) * 280)\n",
    "print(f0)"
   ]
  },
  {
   "cell_type": "code",
   "execution_count": 31,
   "metadata": {},
   "outputs": [
    {
     "name": "stdout",
     "output_type": "stream",
     "text": [
      "0.8749999999999999\n"
     ]
    },
    {
     "data": {
      "text/plain": [
       "0.002187500000000002"
      ]
     },
     "execution_count": 31,
     "metadata": {},
     "output_type": "execute_result"
    }
   ],
   "source": [
    "#def minimum_var_2asset(sigma1, sigma2, sigma12):\n",
    "#    return (sigma2**2 - sigma12) / (sigma1**2 - 2*sigma12 + sigma2**2)\n",
    "\n",
    "ra = 0.1\n",
    "sigmaA = 0.1\n",
    "rb = 0.2\n",
    "sigmaB = 0.2\n",
    "p = 0.25\n",
    "\n",
    "\n",
    "w = minimum_var_2asset(sigmaA, sigmaB, p * sigmaA*sigmaB)\n",
    "print(w)\n",
    "\n",
    "w * ra * (1-w) * rb"
   ]
  },
  {
   "cell_type": "code",
   "execution_count": 32,
   "metadata": {},
   "outputs": [
    {
     "data": {
      "text/plain": [
       "0.5000000000000001"
      ]
     },
     "execution_count": 32,
     "metadata": {},
     "output_type": "execute_result"
    }
   ],
   "source": [
    "(0.15 - 0.2) / (0.1 - 0.2)"
   ]
  },
  {
   "cell_type": "code",
   "execution_count": 38,
   "metadata": {},
   "outputs": [
    {
     "name": "stdout",
     "output_type": "stream",
     "text": [
      "0.046875000000000014\n"
     ]
    }
   ],
   "source": [
    "r = np.array([[0.1, 0.2]])\n",
    "sigma = np.array([[0.1, 0.2]])\n",
    "w = np.array([0.875, 1-0.875])\n",
    "corr = np.array([[1, 0.25], [0.25, 1]])\n",
    "\n",
    "cov = port_cov(sigma, corr)\n",
    "var = port_var(w, cov)\n",
    "print(var)"
   ]
  },
  {
   "cell_type": "code",
   "execution_count": 44,
   "metadata": {},
   "outputs": [
    {
     "name": "stdout",
     "output_type": "stream",
     "text": [
      "2700.0\n"
     ]
    }
   ],
   "source": [
    "Qf = 5\n",
    "margin = 15000\n",
    "main = 13000\n",
    "\n",
    "loss  = 5 * (9000 * 1.06 - 9000)\n",
    "\n",
    "print(loss)"
   ]
  },
  {
   "cell_type": "code",
   "execution_count": 45,
   "metadata": {},
   "outputs": [
    {
     "data": {
      "text/plain": [
       "9540.0"
      ]
     },
     "execution_count": 45,
     "metadata": {},
     "output_type": "execute_result"
    }
   ],
   "source": [
    "1.06 * 9000"
   ]
  },
  {
   "cell_type": "code",
   "execution_count": 47,
   "metadata": {},
   "outputs": [
    {
     "data": {
      "text/plain": [
       "12300"
      ]
     },
     "execution_count": 47,
     "metadata": {},
     "output_type": "execute_result"
    }
   ],
   "source": [
    "15000 - 2700"
   ]
  },
  {
   "cell_type": "code",
   "execution_count": 49,
   "metadata": {},
   "outputs": [],
   "source": [
    "sigma = 0.3 * np.sqrt(0.5)"
   ]
  },
  {
   "cell_type": "code",
   "execution_count": 50,
   "metadata": {},
   "outputs": [
    {
     "data": {
      "text/plain": [
       "0.21213203435596426"
      ]
     },
     "execution_count": 50,
     "metadata": {},
     "output_type": "execute_result"
    }
   ],
   "source": [
    "sigma"
   ]
  },
  {
   "cell_type": "code",
   "execution_count": 55,
   "metadata": {},
   "outputs": [
    {
     "data": {
      "text/plain": [
       "49.25559698015313"
      ]
     },
     "execution_count": 55,
     "metadata": {},
     "output_type": "execute_result"
    }
   ],
   "source": [
    "r = 0.03\n",
    "q = 0.01\n",
    "sigma = 0.2\n",
    "S0 = 5\n",
    "\n",
    "def black_scholes_call(S0, K, r, q, sigma, T):\n",
    "    d1 = (log(S0/K) + (r - q + 0.5*sigma**2) * T) / (sigma * sqrt(T))\n",
    "    d2 = d1 - sigma * sqrt(T)\n",
    "    \n",
    "    return 100 * exp(-r * T) * Ncdf(d2)\n",
    "    \n",
    "\n",
    "    black_scholes_call(5, 5, 0.03, 0.01, 0.2, 1/2)"
   ]
  },
  {
   "cell_type": "code",
   "execution_count": 58,
   "metadata": {},
   "outputs": [
    {
     "data": {
      "text/plain": [
       "13.863009907570207"
      ]
     },
     "execution_count": 58,
     "metadata": {},
     "output_type": "execute_result"
    }
   ],
   "source": [
    "#def backward_2step(r, delta, p, fuu, fud, fdd):\n",
    "S0 = 400\n",
    "u = 1.05\n",
    "d = 0.95\n",
    "K = 395 \n",
    "T = 2\n",
    "r = 0.01\n",
    "delta = 1/12\n",
    "\n",
    "p = risk_neutral_prob(r, delta, u, d)\n",
    "\n",
    "fuu = call_payoff(K, u**2 * S0)\n",
    "fud = call_payoff(K, u*d*S0)\n",
    "fdd = call_payoff(K, d**2 * S0)\n",
    "\n",
    "backward_2step(r, delta, p, fuu, fud, fdd)"
   ]
  },
  {
   "cell_type": "code",
   "execution_count": 60,
   "metadata": {},
   "outputs": [
    {
     "data": {
      "text/plain": [
       "0.9999999999999991"
      ]
     },
     "execution_count": 60,
     "metadata": {},
     "output_type": "execute_result"
    }
   ],
   "source": [
    "#def delta_hedge(fu, fd, S0, u, d):\n",
    "#    return (fu - fd) / (S0 * (u - d))\n",
    "\n",
    "delta_hedge(fuu, fud, u * S0, u, d)"
   ]
  },
  {
   "cell_type": "code",
   "execution_count": 61,
   "metadata": {},
   "outputs": [
    {
     "data": {
      "text/plain": [
       "142.85714285714283"
      ]
     },
     "execution_count": 61,
     "metadata": {},
     "output_type": "execute_result"
    }
   ],
   "source": [
    "beta = 1.0\n",
    "S0 = 100000000\n",
    "Qf = 50\n",
    "I0 = 2800\n",
    "#def contracts_for_desired_beta(beta_star, beta, I, qF, S):\n",
    " \n",
    "contracts_for_desired_beta(1.2, 1.0, 2800, 50, 100000000)\n",
    "\n"
   ]
  },
  {
   "cell_type": "code",
   "execution_count": null,
   "metadata": {},
   "outputs": [],
   "source": [
    "w = np.arary([[1.5, -0.5]])\n",
    "r = np.array([[0.1, 0.02]])\n",
    "sigma = np.array([[0.1, 0]])"
   ]
  }
 ],
 "metadata": {
  "kernelspec": {
   "display_name": "Python 3",
   "language": "python",
   "name": "python3"
  },
  "language_info": {
   "codemirror_mode": {
    "name": "ipython",
    "version": 3
   },
   "file_extension": ".py",
   "mimetype": "text/x-python",
   "name": "python",
   "nbconvert_exporter": "python",
   "pygments_lexer": "ipython3",
   "version": "3.8.2"
  }
 },
 "nbformat": 4,
 "nbformat_minor": 4
}
