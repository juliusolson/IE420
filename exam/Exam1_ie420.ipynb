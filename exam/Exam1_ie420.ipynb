{
 "cells": [
  {
   "cell_type": "code",
   "execution_count": 1,
   "metadata": {},
   "outputs": [],
   "source": [
    "from math import exp, log\n",
    "import numpy as np"
   ]
  },
  {
   "cell_type": "code",
   "execution_count": 10,
   "metadata": {},
   "outputs": [],
   "source": [
    "def replicating(fu, fd, u, d, S0, r, delta):\n",
    "    Delta = (fu-fd) / (S0 * (u-d))\n",
    "    Psi = (d * fu - u * fd) / (exp(r * delta) * (u-d))\n",
    "    return {\"Delta\": Delta, \"Psi\": Psi}"
   ]
  },
  {
   "cell_type": "code",
   "execution_count": 11,
   "metadata": {},
   "outputs": [],
   "source": [
    "def risk_neutral_prob(u, d, r, delta):\n",
    "    return (exp(r * delta) - d) / (u-d)"
   ]
  },
  {
   "cell_type": "code",
   "execution_count": 19,
   "metadata": {},
   "outputs": [],
   "source": [
    "def put_call_parity(c, p, K, r, q, T, S0, mode=\"cont\"):\n",
    "    call = c + K * exp(-r*T)\n",
    "    if mode == \"cont\":\n",
    "        put = p + S0 * exp(-q * T)\n",
    "    if mode == \"no\":\n",
    "        put = p + S0\n",
    "    return {\"call\": call, \"put\": put}"
   ]
  },
  {
   "cell_type": "code",
   "execution_count": 21,
   "metadata": {},
   "outputs": [],
   "source": [
    "def FRA(r1, r2, t1, t2):\n",
    "    return (r2 * t2 - r1 * t1) / (t2-t1)"
   ]
  },
  {
   "cell_type": "code",
   "execution_count": 23,
   "metadata": {},
   "outputs": [],
   "source": [
    "def present_val_loan(A, i, N):\n",
    "    return (A / i) * (1 - (1+i)**(-N))\n",
    "\n",
    "def future_val_loan(A, i, N):\n",
    "    return (A/i) * ((1+i)**N - 1)\n",
    "\n",
    "def annuity(P, i, N):\n",
    "    return (P * i) / (1 - (1+i)**(-N))"
   ]
  },
  {
   "cell_type": "code",
   "execution_count": 44,
   "metadata": {},
   "outputs": [],
   "source": [
    "def present(T, C, y):\n",
    "    P = 0.0\n",
    "    for i in range(len(T)):\n",
    "        P += C[i] * exp(-y * T[i])\n",
    "    return P\n",
    "        \n",
    "def duration(T, C, y):\n",
    "    P = present(T, C, y)\n",
    "    D = 0.0\n",
    "    for i in range(len(T)):\n",
    "        D += T[i] * (C[i] * exp(-y*T[i]) / P)\n",
    "    \n",
    "    return D\n",
    "\n",
    "def convexity(T, C, y):\n",
    "    P = present(T, C, y)\n",
    "    Conv = 0.0\n",
    "    for i in range(len(T)):\n",
    "        Conv += (T[i] ** 2) * (C[i] * exp(-y * T[i]) / P)\n",
    "    \n",
    "    return Conv\n",
    "    \n",
    "\n",
    "def price_diff(delta_y, D, C, P):\n",
    "    return -D * P * delta_y + 0.5 * C * P * (delta_y**2)\n",
    "        "
   ]
  },
  {
   "cell_type": "code",
   "execution_count": 45,
   "metadata": {},
   "outputs": [],
   "source": [
    "def put_payoff(K, S):\n",
    "    return max(0, K-S)\n",
    "\n",
    "def call_payoff(K, S):\n",
    "    return max(0, S-K)"
   ]
  },
  {
   "cell_type": "code",
   "execution_count": 48,
   "metadata": {},
   "outputs": [],
   "source": [
    "def forward_price(S0, r, T, mode=\"none\", q=None, D0=None):\n",
    "    if mode == \"none\":\n",
    "        return S0 * exp(r*T)\n",
    "    elif mode == \"disc\":\n",
    "        return (S0 - D0) * exp(r * T)\n",
    "    else:\n",
    "        return S0 * exp((r-q) * T)"
   ]
  },
  {
   "cell_type": "code",
   "execution_count": 52,
   "metadata": {},
   "outputs": [
    {
     "data": {
      "text/plain": [
       "93.29"
      ]
     },
     "execution_count": 52,
     "metadata": {},
     "output_type": "execute_result"
    }
   ],
   "source": [
    "95 + (-4.5 * 95 * 0.004)"
   ]
  },
  {
   "cell_type": "code",
   "execution_count": 55,
   "metadata": {},
   "outputs": [],
   "source": [
    "r05 = log(98.8 / 100) / (-0.5)"
   ]
  },
  {
   "cell_type": "code",
   "execution_count": 56,
   "metadata": {},
   "outputs": [],
   "source": [
    "r1 = - log((100 - exp(-0.5*r05)) / 101)"
   ]
  },
  {
   "cell_type": "code",
   "execution_count": 58,
   "metadata": {},
   "outputs": [
    {
     "data": {
      "text/plain": [
       "1.9879461931053006"
      ]
     },
     "execution_count": 58,
     "metadata": {},
     "output_type": "execute_result"
    }
   ],
   "source": [
    "r1 * 100"
   ]
  },
  {
   "cell_type": "code",
   "execution_count": 59,
   "metadata": {},
   "outputs": [
    {
     "data": {
      "text/plain": [
       "0.024145162468538497"
      ]
     },
     "execution_count": 59,
     "metadata": {},
     "output_type": "execute_result"
    }
   ],
   "source": [
    "r05"
   ]
  },
  {
   "cell_type": "code",
   "execution_count": 66,
   "metadata": {},
   "outputs": [
    {
     "data": {
      "text/plain": [
       "{'call': 2115.2559325551742, 'put': 2100}"
      ]
     },
     "execution_count": 66,
     "metadata": {},
     "output_type": "execute_result"
    }
   ],
   "source": [
    "S0 = 1900\n",
    "c = 220\n",
    "K = 1900\n",
    "p = 200\n",
    "r = 0.01/2\n",
    "put_call_parity(c=c, p=p, K=K, r=r, q=0, T=0.5, S0=S0, mode=\"no\")"
   ]
  },
  {
   "cell_type": "code",
   "execution_count": 67,
   "metadata": {},
   "outputs": [
    {
     "data": {
      "text/plain": [
       "-1880"
      ]
     },
     "execution_count": 67,
     "metadata": {},
     "output_type": "execute_result"
    }
   ],
   "source": [
    "c - p - S0"
   ]
  },
  {
   "cell_type": "code",
   "execution_count": 71,
   "metadata": {},
   "outputs": [
    {
     "data": {
      "text/plain": [
       "50.00000000000001"
      ]
     },
     "execution_count": 71,
     "metadata": {},
     "output_type": "execute_result"
    }
   ],
   "source": [
    "S0 = 100\n",
    "delta = 0.5\n",
    "u = 1.2\n",
    "d = 0.8\n",
    "K = 100\n",
    "fu = max(u*S0 - K, 0)\n",
    "fd = max(d * S0 -K, 0)\n",
    "\n",
    "100 * (fu - fd) / (S0 *(u-d))"
   ]
  },
  {
   "cell_type": "code",
   "execution_count": 98,
   "metadata": {},
   "outputs": [],
   "source": [
    "r = 0.01\n",
    "t = 1/2\n",
    "T = 1\n",
    "St = 2000\n",
    "S0 = 1880\n",
    "K = forward_price(1880, 0.01, 1)\n",
    "Ft = exp(r *(T-t)) * St\n",
    "Vt = exp(-r * (T-t)) * (Ft - K)"
   ]
  },
  {
   "cell_type": "code",
   "execution_count": 101,
   "metadata": {},
   "outputs": [
    {
     "name": "stdout",
     "output_type": "stream",
     "text": [
      "2010.025041718802 1898.8943141182358 110.57646078432599\n"
     ]
    }
   ],
   "source": [
    "print(Ft, K, Vt)"
   ]
  },
  {
   "cell_type": "code",
   "execution_count": 102,
   "metadata": {},
   "outputs": [],
   "source": [
    "S0 = 1.1521\n",
    "T = 9/12\n",
    "F0 = 1.1620\n",
    "diff = log(F0 / S0) / T"
   ]
  },
  {
   "cell_type": "code",
   "execution_count": 104,
   "metadata": {},
   "outputs": [],
   "source": [
    "S0 = 100\n",
    "u = 1.1\n",
    "d = 0.9\n",
    "r = 0.01\n",
    "K = 100\n",
    "delta = 0.5\n",
    "fu = put_payoff(K, u * S0)\n",
    "fd = put_payoff(K, d * S0)\n",
    "res = replicating(fu, fd, u, d, S0, r, delta)"
   ]
  },
  {
   "cell_type": "code",
   "execution_count": 112,
   "metadata": {},
   "outputs": [
    {
     "name": "stdout",
     "output_type": "stream",
     "text": [
      "-54.72568635559752\n"
     ]
    }
   ],
   "source": [
    "res[\"Delta\"] * S0 - res[\"Psi\"]\n",
    "print(res[\"Psi\"])"
   ]
  },
  {
   "cell_type": "code",
   "execution_count": null,
   "metadata": {},
   "outputs": [],
   "source": [
    "S0 = 2275\n",
    "T = 2/52\n",
    "K = 2250\n",
    "p = 120\n"
   ]
  }
 ],
 "metadata": {
  "kernelspec": {
   "display_name": "Python 3",
   "language": "python",
   "name": "python3"
  },
  "language_info": {
   "codemirror_mode": {
    "name": "ipython",
    "version": 3
   },
   "file_extension": ".py",
   "mimetype": "text/x-python",
   "name": "python",
   "nbconvert_exporter": "python",
   "pygments_lexer": "ipython3",
   "version": "3.7.5"
  }
 },
 "nbformat": 4,
 "nbformat_minor": 4
}
